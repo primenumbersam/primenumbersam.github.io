{
  "cells": [
    {
      "cell_type": "markdown",
      "metadata": {
        "id": "view-in-github",
        "colab_type": "text"
      },
      "source": [
        "<a href=\"https://colab.research.google.com/github/primenumbersam/primenumbersam.github.io/blob/main/jupyterbook.ipynb\" target=\"_parent\"><img src=\"https://colab.research.google.com/assets/colab-badge.svg\" alt=\"Open In Colab\"/></a>"
      ]
    },
    {
      "cell_type": "code",
      "execution_count": null,
      "metadata": {
        "colab": {
          "background_save": true
        },
        "id": "-w_oLKju4LQa",
        "outputId": "0e1c4c37-7e6c-4de4-c09d-6e411cebd785"
      },
      "outputs": [
        {
          "name": "stdout",
          "output_type": "stream",
          "text": [
            "Mounted at /content/drive\n"
          ]
        }
      ],
      "source": [
        "# This mounts your Google Drive to the Colab VM.\n",
        "from google.colab import drive\n",
        "drive.mount('/content/drive')\n",
        "\n"
      ]
    },
    {
      "cell_type": "code",
      "execution_count": 5,
      "metadata": {
        "id": "xfEr0Xo85uOT",
        "colab": {
          "base_uri": "https://localhost:8080/"
        },
        "outputId": "107fac24-f01d-4995-9fa3-d43357b54d26"
      },
      "outputs": [
        {
          "output_type": "stream",
          "name": "stdout",
          "text": [
            "/content/drive/MyDrive/github_pages\n"
          ]
        }
      ],
      "source": [
        "FOLDERNAME = 'github_pages'\n",
        "assert FOLDERNAME is not None, \"[!] Enter the foldername.\"\n",
        "\n",
        "import sys\n",
        "sys.path.append('/content/drive/MyDrive/{}'.format(FOLDERNAME))\n",
        "\n",
        "# Change dariectory to current folder\n",
        "%cd /content/drive/MyDrive/$FOLDERNAME"
      ]
    },
    {
      "cell_type": "code",
      "source": [
        "!ls"
      ],
      "metadata": {
        "colab": {
          "base_uri": "https://localhost:8080/"
        },
        "id": "cWp44aF17Xa0",
        "outputId": "3ae552f9-03a7-480f-e0b2-2ba51657ab53"
      },
      "execution_count": 6,
      "outputs": [
        {
          "output_type": "stream",
          "name": "stdout",
          "text": [
            "'J-Test (Image).ipynb'\t jupyterbook.ipynb\n"
          ]
        }
      ]
    },
    {
      "cell_type": "code",
      "execution_count": null,
      "metadata": {
        "id": "okWkIJ2hr49v"
      },
      "outputs": [],
      "source": [
        "pip install -U jupyter-book"
      ]
    },
    {
      "cell_type": "code",
      "execution_count": 7,
      "metadata": {
        "colab": {
          "base_uri": "https://localhost:8080/"
        },
        "id": "sj_-0r3OsqiP",
        "outputId": "286370de-e78b-4e99-a467-b74b2c00bd44"
      },
      "outputs": [
        {
          "output_type": "stream",
          "name": "stdout",
          "text": [
            "Usage: jb [OPTIONS] COMMAND [ARGS]...\n",
            "\n",
            "  Build and manage books with Jupyter.\n",
            "\n",
            "Options:\n",
            "  --version   Show the version and exit.\n",
            "  -h, --help  Show this message and exit.\n",
            "\n",
            "Commands:\n",
            "  build   Convert your book's or page's content to HTML or a PDF.\n",
            "  clean   Empty the _build directory except jupyter_cache.\n",
            "  config  Inspect your _config.yml file.\n",
            "  create  Create a Jupyter Book template that you can customize.\n",
            "  myst    Manipulate MyST markdown files.\n",
            "  toc     Command-line for sphinx-external-toc.\n"
          ]
        }
      ],
      "source": [
        "#jupyter-book or jb to command\n",
        "!jb --help"
      ]
    },
    {
      "cell_type": "code",
      "execution_count": null,
      "metadata": {
        "id": "Ap__kIQPr3xp"
      },
      "outputs": [],
      "source": [
        "# generate a sample book\n",
        "!jupyter-book create mynewbook/"
      ]
    },
    {
      "cell_type": "code",
      "execution_count": null,
      "metadata": {
        "id": "YjkE1vCzsvNP"
      },
      "outputs": [],
      "source": [
        "!jupyter-book build mynewbook/"
      ]
    }
  ],
  "metadata": {
    "colab": {
      "provenance": [],
      "authorship_tag": "ABX9TyNDl5VmxCicUNzTMH2GfZoj",
      "include_colab_link": true
    },
    "kernelspec": {
      "display_name": "Python 3",
      "name": "python3"
    },
    "language_info": {
      "name": "python"
    }
  },
  "nbformat": 4,
  "nbformat_minor": 0
}