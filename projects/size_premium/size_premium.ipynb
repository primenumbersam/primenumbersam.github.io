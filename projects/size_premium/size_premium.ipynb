{
 "cells": [
  {
   "cell_type": "markdown",
   "metadata": {},
   "source": [
    "---\n",
    "title: \"Reaccessing the Size Premium\"\n",
    "subtitle: \"in the US Stock Market\"\n",
    "author: \"GitSAM\"\n",
    "date: today\n",
    "abstract: This study \n",
    "bibliography: references.bib\n",
    "format:\n",
    "  html:\n",
    "    code-fold: true\n",
    "    toc: true\n",
    "jupyter: python3\n",
    "---"
   ]
  },
  {
   "cell_type": "markdown",
   "metadata": {},
   "source": [
    "## Literature Review\n",
    "\n",
    "현대 금융시장 구조와 투자 전략\n",
    "- 구조: 특정 산업 집중도, 산업 내 특정 기업의 집중도, 대형주의 프리미엄, 금융기관의 정부 보증 효과, 슈퍼스타 기업의 부상\n",
    "- 전략: 자산 가격 및 위험조정 수익률에 미치는 영향\n",
    "\n",
    "대형 금융기관들이 암묵적인 정부 보증으로 인해 위험조정 수익률이 더 낮다는 증거를 제시합니다. 이는 정부가 대형 금융기관의 주주를 보호하는 경향 때문에 발생하며, 비금융 대기업에서는 다른 패턴이 나타날 수 있음을 시사합니다 [@gandhi2015size].\n",
    "\n",
    "Resurrected size premium after controlling for the junk? [@asness2018size].\n",
    "\n",
    "Passive ETF [@jiang2020passive].\n",
    "- One of the most important capital-market developments of the past thirty years has been the growth of passive investing.\n",
    "- flows into passive funds raise disproportionately the stock prices of the largest firms in the economy. \n",
    "- The growth of passive investing can thus be one of the drivers of the observed rise in industry concentration (Gutierrez and Philippon (2017), Grullon, Larkin, and Michaely (2019))\n",
    "\n",
    "Superstar firms [@autor2020fall].\n",
    "\n",
    "미래에셋 \n",
    "- TIGER 미국테크TOP10 INDXX: 나스닥 시가총액 10개 ETF 종목 코드 [381170](https://www.tigeretf.com/ko/product/search/detail/index.do?ksdFund=KR7381170000)\n",
    "- AI 관련 미국 빅테크 주식 상위 10개 ETF 종목 코드 [490090](https://www.tigeretf.com/ko/product/search/detail/index.do?ksdFund=KR7490090008)"
   ]
  }
 ],
 "metadata": {
  "language_info": {
   "name": "python"
  }
 },
 "nbformat": 4,
 "nbformat_minor": 2
}
