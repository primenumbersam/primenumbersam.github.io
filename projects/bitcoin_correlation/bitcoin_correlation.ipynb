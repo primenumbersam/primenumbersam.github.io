{
 "cells": [
  {
   "cell_type": "markdown",
   "id": "a90ca577-d98e-4f3b-bf5c-bc290dc9e6c5",
   "metadata": {},
   "source": [
    "---\n",
    "title: \"Coupling Factors with Bitcoin\"\n",
    "bibliography: references.bib\n",
    "format:\n",
    "  html:\n",
    "    code-fold: true\n",
    "    toc: true\n",
    "jupyter: python3\n",
    "---"
   ]
  },
  {
   "cell_type": "markdown",
   "id": "f079f8ec-8d1c-419c-9fa3-618a772d99f4",
   "metadata": {},
   "source": [
    "## Key Summary\n",
    "- 주의: 선형 상관관계는 시간에 따라 변동할 수 있으며, 특히 비트코인은 시장 심리, 규제 변화, 기술적 요인 등에 크게 영향을 받습니다. 예를 들어, 따라서 최신 데이터를 주기적으로 확인하는 것이 중요합니다.  \n",
    "- 비트코인과 강한 양의 상관관계를 보이는 것은, 나스닥 대형 기술주들이 포함된 나스닥-100 지수 (NDX) (상관계수는 약 0.8에서 0.9로 추정됨, 데이터 period 및 frequency 보충) [@nasdaq2023].  \n",
    "- 비트코인과 강한 음의 상관관계를 보이는 것은, 미국 달러 지수 (DXY) (상관계수는 약 -0.7, 데이터 period 및 frequency 보충) [@coindesk2023]. 달러와 반대 방향으로 움직이는 비트코인은 인플레이션 헤지 자산으로 간주될 가능성을 시사함. \n",
    "- 비트코인과 다른 경제지표(예: 금, GDP, 인플레이션)와의 상관관계는 덜 명확하거나 약했음.  금과의 상관관계는 시기마다 변동이 크고, GDP와의 관계는 간접적입니다 [@cointelegraph2023 ; @cryptoslate2022].  \n",
    "\n",
    "## 추가 조사 사항  \n",
    "### NDX\n",
    "- 나스닥-100 지수와 coupling이 더욱 심해지기 시작한 시기는 정확히 언제였는지 조사. 비트코인 ETF 승인 이후 기관 투자자의 참여 증가부터? \n",
    "- 2020년 COVID-19 위기 이후 비트코인과 주식시장 간 상관관계가 강화된 사례가 관찰되었으나 [@nasdaq2020], 2023년에도 나스닥-100 지수와의 강한 상관관계가 계속 유지되었나?\n",
    "-  2022년 5월 연방준비제도(Fed)의 금리 인상 발표 시 나스닥과 비트코인 모두 하락한 사례가 관찰된 적이 있었음.\n",
    "\n",
    "### DXY\n",
    "- DXY와 비트코인의 역관계가 인플레이션 헤지 자산으로서 비트코인의 역할을 설명하며, 특히 글로벌 경제 불확실성 시 이 관계가 두드러진다고 분석 [@coinglass2023].  \n",
    "- 2023년 4월 GDP 데이터 발표 전후로 음의 상관관계가 강화? negative coupling이 심해지기 시작한 시기는 정확히 언제였는지 조사.  \n",
    "\n",
    "### Other indicators \n",
    "덜 명확하거나 약하며, 아래 표를 통해 요약.  \n",
    "\n",
    "| 경제지표 | 상관관계 유형 | 상세 설명 | 출처 |\n",
    "|----------|------------------|------------------------------------------------------------|------------------|\n",
    "| **인플레이션** | 불명확, 잠재적 양의 상관관계 | 인플레이션 헤지 자산으로 간주되지만, 연구 결과 상충 | [@science2021] |\n",
    "| **금리 (Interest Rates)** | 음의 상관관계, 강함 | 금리 상승 시 비트코인 가격 하락, 특히 2022~2023년 Fed 금리 인상 시 관찰 | [@forbes2024] |\n",
    "| **금 (Gold)** | 불규칙, 약함 | 상관계수는 시기마다 변동 | [@cointelegraph2023] |\n",
    "| **GDP** | 간접적, 약함 | 경제 성장 시 비트코인 수요 증가 가능, 하지만 명확한 상관관계는 미흡 | [@cryptoslate2022] |                                                   |"
   ]
  }
 ],
 "metadata": {
  "kernelspec": {
   "display_name": "Python 3 (ipykernel)",
   "language": "python",
   "name": "python3"
  },
  "language_info": {
   "codemirror_mode": {
    "name": "ipython",
    "version": 3
   },
   "file_extension": ".py",
   "mimetype": "text/x-python",
   "name": "python",
   "nbconvert_exporter": "python",
   "pygments_lexer": "ipython3",
   "version": "3.13.2"
  }
 },
 "nbformat": 4,
 "nbformat_minor": 5
}
