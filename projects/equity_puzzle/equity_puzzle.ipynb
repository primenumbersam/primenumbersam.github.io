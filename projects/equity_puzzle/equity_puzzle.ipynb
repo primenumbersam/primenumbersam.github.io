{
 "cells": [
  {
   "cell_type": "markdown",
   "metadata": {},
   "source": [
    "---\n",
    "title: Equity Premium Puzzle\n",
    "subtitle: Is it really a puzzle?\n",
    "author: gitSAM\n",
    "date: '2025-03-17'\n",
    "format:\n",
    "  html:\n",
    "    code-fold: true\n",
    "    toc: true\n",
    "jupyter: python3\n",
    "---"
   ]
  },
  {
   "cell_type": "markdown",
   "metadata": {},
   "source": []
  }
 ],
 "metadata": {
  "language_info": {
   "name": "python"
  }
 },
 "nbformat": 4,
 "nbformat_minor": 2
}
